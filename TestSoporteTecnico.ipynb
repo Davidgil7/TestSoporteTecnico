{
  "cells": [
    {
      "cell_type": "markdown",
      "metadata": {},
      "source": [
        "Realizado en la version 3.11.4 de Anaconda"
      ]
    },
    {
      "cell_type": "code",
      "execution_count": null,
      "metadata": {},
      "outputs": [],
      "source": [
        "!pip install -U flask-cors"
      ]
    },
    {
      "cell_type": "markdown",
      "metadata": {},
      "source": [
        "1.\tConocimientos de SQL"
      ]
    },
    {
      "cell_type": "markdown",
      "metadata": {
        "id": "eRs9ziWfsRn4"
      },
      "source": [
        "a) Construya una sentencia SQL para la creación de una vista que involucre los datos de las tres tablas\n",
        "mencionadas anteriormente"
      ]
    },
    {
      "cell_type": "code",
      "execution_count": null,
      "metadata": {
        "id": "DHF1sN22rlsZ"
      },
      "outputs": [],
      "source": [
        "\"\"\"CREATE VIEW VistaLlamadas AS\n",
        "SELECT e.numeroextension, e.nombreusuario, l.fechahorallamada, l.duracionllamada, l.costollamada, s.tiposervicio\n",
        "FROM Extensiones e\n",
        "JOIN Llamadas l ON e.numeroextension = l.numeroextension\n",
        "JOIN Servicios s ON l.tiposervicio = s.tiposervicio\"\"\""
      ]
    },
    {
      "cell_type": "markdown",
      "metadata": {
        "id": "qeSFjV5h0Sm4"
      },
      "source": [
        "b) Basándose en la vista anterior, cree una consulta que muestre la siguiente información:\n",
        "\n",
        "• Número de llamadas realizadas por cada usuario, su duración total y el costo total"
      ]
    },
    {
      "cell_type": "code",
      "execution_count": 2,
      "metadata": {
        "id": "QiN9olGpscxo"
      },
      "outputs": [],
      "source": [
        "b1 =\"\"\"SELECT nombreusuario, COUNT(*) AS numerollamadas, SUM(duracionllamada) AS duraciontotal, SUM(costollamada) AS costototal\n",
        "    FROM VistaLlamadas\n",
        "    GROUP BY nombreusuario;\"\"\""
      ]
    },
    {
      "cell_type": "markdown",
      "metadata": {
        "id": "j7wSime71ctn"
      },
      "source": [
        "•\tConsultar las 10 llamadas con mayor duración"
      ]
    },
    {
      "cell_type": "code",
      "execution_count": 3,
      "metadata": {
        "id": "dcMPr_wV1to5"
      },
      "outputs": [],
      "source": [
        "b2 = \"\"\"SELECT * FROM VistaLlamadas\n",
        "ORDER BY duracionllamada DESC\n",
        "LIMIT 10;\"\"\""
      ]
    },
    {
      "cell_type": "markdown",
      "metadata": {
        "id": "57q-htWo2O7-"
      },
      "source": [
        "•\tConsultar las 10 llamadas con mayor costo"
      ]
    },
    {
      "cell_type": "code",
      "execution_count": 4,
      "metadata": {
        "id": "aZlguEB-2Pt_"
      },
      "outputs": [],
      "source": [
        "b3 = \"\"\"SELECT * FROM VistaLlamadas\n",
        "ORDER BY costollamada DESC\n",
        "LIMIT 10;\"\"\""
      ]
    },
    {
      "cell_type": "markdown",
      "metadata": {
        "id": "CxiQ1CQD3EF4"
      },
      "source": [
        "•\tConsultar el número de llamadas y el costo por tipo de servicio"
      ]
    },
    {
      "cell_type": "code",
      "execution_count": 5,
      "metadata": {
        "id": "RqYQ0gYK3EXx"
      },
      "outputs": [],
      "source": [
        "b4 = \"\"\"SELECT TipoServicio, COUNT(*) AS NumeroLlamadas, SUM(costollamada) AS CostoTotalLlamadas\n",
        "FROM VistaLlamadas\n",
        "GROUP BY TipoServicio;\"\"\""
      ]
    },
    {
      "cell_type": "code",
      "execution_count": 6,
      "metadata": {
        "colab": {
          "base_uri": "https://localhost:8080/"
        },
        "id": "cmohX631AtJL",
        "outputId": "5b89e273-cfaa-4b16-8e7f-52a4a9b6cef3"
      },
      "outputs": [],
      "source": [
        "import sqlite3\n",
        "import json\n",
        "import warnings\n",
        "from pathlib import Path\n",
        "\n",
        "warnings.filterwarnings(\"ignore\")"
      ]
    },
    {
      "cell_type": "markdown",
      "metadata": {},
      "source": [
        "2. Conocimientos de programación"
      ]
    },
    {
      "cell_type": "markdown",
      "metadata": {},
      "source": [
        "Utilizando un lenguaje de programación de su preferencia cree una API Rest que devuelva:\n",
        "\n",
        "a)\tCree un endpoint que devuelva la vista creada anteriormente."
      ]
    },
    {
      "cell_type": "code",
      "execution_count": 10,
      "metadata": {},
      "outputs": [],
      "source": [
        "def EjecucionesBd(sql):\n",
        "\n",
        "    bd = sqlite3.connect(Path(\"LlamadasTelefonicas.db\"))\n",
        "    cursor = bd.execute(sql)\n",
        "    bdData = cursor.fetchall()\n",
        "    datos = []\n",
        "    \n",
        "    columname = []\n",
        "    for name in cursor.description:\n",
        "        columname.append(name[0])\n",
        "\n",
        "    for fila in bdData:\n",
        "        dato = {}\n",
        "\n",
        "        for colun in range(0,len(columname)):\n",
        "            dato[columname[colun]] = fila[colun]\n",
        "        datos.append(dato)\n",
        "\n",
        "    json_data = json.dumps(datos)\n",
        "    bd.close()\n",
        "    \n",
        "    return json_data"
      ]
    },
    {
      "cell_type": "code",
      "execution_count": 61,
      "metadata": {},
      "outputs": [],
      "source": [
        "def Encabezados(ejecionSql):\n",
        "    encaMal = {\"FechaHoraLlamada\" : \"Fecha y Hora Llamada\" , \n",
        "               \"NumeroExtension\" : \"Número Extensión\", \n",
        "               \"NumeroMarcado\" : \"Número Marcado\", \n",
        "               \"DuracionLlamada\" : \"Duración Llamada\", \n",
        "               \"CostoLlamada\": \"Costo Llamada\", \n",
        "               \"TipoServicio\": \"Tipo de Servicio\",\n",
        "               \"NombreUsuario\": \"Nombre usuario\",\n",
        "               \"numerollamadas\":\"Llamadas realizadas\",\n",
        "               \"duraciontotal\": \"Duracion de las llamadas\",\n",
        "               \"costototal\":\"Costos total llamadas\",\n",
        "               \"NumeroLlamada\":\"Numero de llamadas\",\n",
        "               \"CostoTotalLlamadas\": \"Costo total llamadas\",\n",
        "               \"numeroLlamadas\": \"Total llamadas realizadas\",\n",
        "                \"costoTotal\": \"Costo total llamadas\",\n",
        "                \"duracionTotal\": \"Duración total llamadas\"}\n",
        "\n",
        "    for enca in encaMal:\n",
        "        ejecionSql = ejecionSql.replace(enca,encaMal[enca])\n",
        "\n",
        "    return ejecionSql\n"
      ]
    },
    {
      "cell_type": "code",
      "execution_count": null,
      "metadata": {
        "colab": {
          "base_uri": "https://localhost:8080/"
        },
        "id": "2Cj1e6ZlFNZS",
        "outputId": "43a04dad-4a1c-437c-8d9e-8b216916ad92"
      },
      "outputs": [],
      "source": [
        "from flask import Flask, abort, jsonify\n",
        "from flask_cors import CORS\n",
        "\n",
        "app = Flask(__name__)\n",
        "\n",
        "#whitelist = ['/ResultadosApi.html',]\n",
        "resources = {\n",
        "    r\"/*\": {\"origins\": \"*\"}\n",
        "    #r\"/*\": {\"origins\": whitelist, \"methods\": [\"GET\"]}\n",
        "   }\n",
        "\n",
        "cors = CORS(app, resources=resources)\n",
        "\n",
        "@app.route(\"/\")\n",
        "def hello():\n",
        "    return \"Probando\"\n",
        "\n",
        "@app.route('/vistallamadas')\n",
        "def vistallamadas():\n",
        "   \n",
        "   resultados = EjecucionesBd(\"SELECT * FROM VistaLlamadas;\")\n",
        "   return Encabezados(resultados),200\n",
        "\n",
        "\"\"\"b)\tlos registros del resultado de la vista anterior, dependiendo del tipo de consulta que son los siguientes:\n",
        "        1. Número de llamadas realizadas por cada usuario y su duración y el costo total.\n",
        "        2. Las 10 llamadas con mayor duración.\n",
        "        3. Las 10 llamadas con mayor costo.\n",
        "        4. Número de llamadas y el costo por tipo de servicio.\"\"\"\n",
        "\n",
        "@app.route('/numero-llamadas-usuario/<solicitud>')\n",
        "def llamadasUsuario(solicitud):\n",
        "  resultados = {\"LlamadasXUsuari\": EjecucionesBd(b1),\n",
        "                \"10MayorDuracion\": EjecucionesBd(b2),\n",
        "                \"10MayorCosto\": EjecucionesBd(b3),\n",
        "                \"NllamadasCosto\": EjecucionesBd(b4)}\n",
        "  #resultados = EjecucionesBd(b1)\n",
        "  match solicitud:\n",
        "      case \"1\":\n",
        "          return Encabezados(resultados[\"LlamadasXUsuari\"]), 200\n",
        "      case \"2\":\n",
        "          return Encabezados(resultados[\"10MayorDuracion\"]), 200\n",
        "      case \"3\":\n",
        "          return Encabezados(resultados[\"10MayorCosto\"]), 200\n",
        "      case \"4\":\n",
        "          return Encabezados(resultados[\"NllamadasCosto\"]), 200\n",
        "      case _:\n",
        "          abort(401,\"error en la peticion\") \n",
        "\n",
        "\"\"\"c)\tCree un endpoint que tome como entrada el número de extensión del usuario y retorne en la estructura que usted decida, el resumen de llamadas que ha realizado el usuario, este resumen debe contener.\n",
        "            •\tNúmero de llamadas.\n",
        "            •\tCosto total de las llamadas.\n",
        "            •\tDuración total de las llamadas en minutos.\n",
        "           NOTA: El dato DuracionLLamada viene dado en segundos.\n",
        "\"\"\"\n",
        "@app.route(\"/resumen-llamadas/<extension>\")\n",
        "def resumenLlamadas(extension):\n",
        "   \n",
        "    try:\n",
        "        extension = int(extension)\n",
        "    except ValueError:\n",
        "        return jsonify({\"error\": \"El número de extensión debe ser un valor numérico\"}), 400\n",
        "    \n",
        "    \n",
        "    resultados = EjecucionesBd(f\"\"\"SELECT COUNT(*) AS numeroLlamadas, SUM(costollamada) AS costoTotal, SUM(duracionllamada) / 60 AS duracionTotal\n",
        "        FROM VistaLlamadas\n",
        "        WHERE numeroextension = {extension}\"\"\")\n",
        "    # La sentencia sql retorna las columnas #LlamadasRealizadas | CostoLLamdas | DuracionLlamadas(minutos)\n",
        "    return Encabezados(resultados), 200\n",
        "\n",
        "\n",
        "if __name__ == '__main__':\n",
        "    app.run(port=5000)\n",
        "  \n",
        "app.run(debug=True)"
      ]
    }
  ],
  "metadata": {
    "colab": {
      "provenance": []
    },
    "kernelspec": {
      "display_name": "Python 3",
      "name": "python3"
    },
    "language_info": {
      "codemirror_mode": {
        "name": "ipython",
        "version": 3
      },
      "file_extension": ".py",
      "mimetype": "text/x-python",
      "name": "python",
      "nbconvert_exporter": "python",
      "pygments_lexer": "ipython3",
      "version": "3.11.4"
    }
  },
  "nbformat": 4,
  "nbformat_minor": 0
}
